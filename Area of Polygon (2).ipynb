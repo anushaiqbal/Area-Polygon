{
 "cells": [
  {
   "cell_type": "code",
   "execution_count": 2,
   "id": "3a3aa43e-fa0f-443c-856c-5c10a23f050c",
   "metadata": {},
   "outputs": [
    {
     "name": "stdin",
     "output_type": "stream",
     "text": [
      "Enter the number of sides of the polygon:  9\n",
      "Enter the length of each side of the polygon:  8\n"
     ]
    },
    {
     "name": "stdout",
     "output_type": "stream",
     "text": [
      "The area of the 9-sided polygon is: 395.63674840146564\n"
     ]
    }
   ],
   "source": [
    "# AREA OF POLYGON\n",
    "import math\n",
    "\n",
    "def area_of_polygon(n, side_len):\n",
    "\n",
    "    if n < 3:\n",
    "        return \"A polygon must have at least 3 sides.\"\n",
    "    else:\n",
    "        perimeter = n * side_len\n",
    "        apothem = side_len / (2 * math.tan(math.pi / n))\n",
    "        area = 0.5 * perimeter * apothem\n",
    "        return area\n",
    "\n",
    "def main():\n",
    "    n = int(input(\"Enter the number of sides of the polygon: \"))\n",
    "    side_len = float(input(\"Enter the length of each side of the polygon: \"))\n",
    "\n",
    "    polygon_area = area_of_polygon(n, side_len)\n",
    "    print(f\"The area of the {n}-sided polygon is: {polygon_area}\")\n",
    "\n",
    "if __name__ == \"__main__\":\n",
    "    main()"
   ]
  },
  {
   "cell_type": "code",
   "execution_count": null,
   "id": "c9a3ebe7-c1f2-43aa-9e36-594e1a0a77a6",
   "metadata": {},
   "outputs": [],
   "source": []
  }
 ],
 "metadata": {
  "kernelspec": {
   "display_name": "Python 3 (ipykernel)",
   "language": "python",
   "name": "python3"
  },
  "language_info": {
   "codemirror_mode": {
    "name": "ipython",
    "version": 3
   },
   "file_extension": ".py",
   "mimetype": "text/x-python",
   "name": "python",
   "nbconvert_exporter": "python",
   "pygments_lexer": "ipython3",
   "version": "3.11.7"
  }
 },
 "nbformat": 4,
 "nbformat_minor": 5
}
